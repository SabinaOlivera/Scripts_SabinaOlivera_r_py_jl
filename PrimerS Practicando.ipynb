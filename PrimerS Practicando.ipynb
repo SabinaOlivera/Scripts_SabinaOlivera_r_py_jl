{
 "cells": [
  {
   "cell_type": "code",
   "execution_count": 2,
   "id": "ca59ba89",
   "metadata": {},
   "outputs": [],
   "source": [
    "x=5"
   ]
  },
  {
   "cell_type": "code",
   "execution_count": 5,
   "id": "06adbd9d",
   "metadata": {},
   "outputs": [
    {
     "name": "stdout",
     "output_type": "stream",
     "text": [
      "5\n"
     ]
    }
   ],
   "source": [
    "print (x)"
   ]
  },
  {
   "cell_type": "code",
   "execution_count": 6,
   "id": "7bf38d6f",
   "metadata": {},
   "outputs": [
    {
     "name": "stdout",
     "output_type": "stream",
     "text": [
      "10\n"
     ]
    }
   ],
   "source": [
    "print (5+x)"
   ]
  },
  {
   "cell_type": "code",
   "execution_count": 7,
   "id": "f299905f",
   "metadata": {},
   "outputs": [],
   "source": [
    "y=x+1"
   ]
  },
  {
   "cell_type": "code",
   "execution_count": 8,
   "id": "b2a849f3",
   "metadata": {},
   "outputs": [
    {
     "name": "stdout",
     "output_type": "stream",
     "text": [
      "8\n"
     ]
    }
   ],
   "source": [
    "print (y+2)"
   ]
  },
  {
   "cell_type": "code",
   "execution_count": 9,
   "id": "1873bfb9",
   "metadata": {},
   "outputs": [],
   "source": [
    "h=y-x"
   ]
  },
  {
   "cell_type": "code",
   "execution_count": 10,
   "id": "c6b0bcbf",
   "metadata": {},
   "outputs": [
    {
     "name": "stdout",
     "output_type": "stream",
     "text": [
      "1\n"
     ]
    }
   ],
   "source": [
    "print (h)"
   ]
  },
  {
   "cell_type": "code",
   "execution_count": null,
   "id": "3ceff19b",
   "metadata": {},
   "outputs": [],
   "source": []
  }
 ],
 "metadata": {
  "kernelspec": {
   "display_name": "Python 3 (ipykernel)",
   "language": "python",
   "name": "python3"
  },
  "language_info": {
   "codemirror_mode": {
    "name": "ipython",
    "version": 3
   },
   "file_extension": ".py",
   "mimetype": "text/x-python",
   "name": "python",
   "nbconvert_exporter": "python",
   "pygments_lexer": "ipython3",
   "version": "3.9.12"
  }
 },
 "nbformat": 4,
 "nbformat_minor": 5
}
